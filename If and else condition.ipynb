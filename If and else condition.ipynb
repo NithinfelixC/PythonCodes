{
 "cells": [
  {
   "cell_type": "markdown",
   "id": "d451509a",
   "metadata": {},
   "source": [
    "# IF and ELSE condition"
   ]
  },
  {
   "cell_type": "code",
   "execution_count": 3,
   "id": "8a4912d6",
   "metadata": {},
   "outputs": [
    {
     "name": "stdout",
     "output_type": "stream",
     "text": [
      "Condition matches\n",
      "Operation Complete\n"
     ]
    }
   ],
   "source": [
    "# Using IF or else condition by matching Strings and variables\n",
    "Car_Name = 'Ford F50'\n",
    "if Car_Name == 'Ford F50':\n",
    "    print(\"Condition matches\")\n",
    "else:\n",
    "    print(\"Condition not macthes\")\n",
    "print(\"Operation Complete\")"
   ]
  },
  {
   "cell_type": "code",
   "execution_count": 4,
   "id": "4be32b84",
   "metadata": {},
   "outputs": [
    {
     "name": "stdout",
     "output_type": "stream",
     "text": [
      "Condition not macthes\n",
      "Operation Complete\n"
     ]
    }
   ],
   "source": [
    "Car_Name = 'Ford F250'\n",
    "if Car_Name == 'Ford F50':\n",
    "    print(\"Condition matches\")\n",
    "else:\n",
    "    print(\"Condition not macthes\")\n",
    "print(\"Operation Complete\")"
   ]
  },
  {
   "cell_type": "code",
   "execution_count": 5,
   "id": "27cc392b",
   "metadata": {},
   "outputs": [
    {
     "name": "stdout",
     "output_type": "stream",
     "text": [
      "Condition not macthes\n",
      "Ford F250\n"
     ]
    }
   ],
   "source": [
    "Car_Name = 'Ford F250'\n",
    "if Car_Name == 'Ford F50':\n",
    "    print(\"Condition matches\")\n",
    "else:\n",
    "    print(\"Condition not macthes\")\n",
    "print(Car_Name)"
   ]
  },
  {
   "cell_type": "code",
   "execution_count": 82,
   "id": "1000c1eb",
   "metadata": {},
   "outputs": [
    {
     "name": "stdout",
     "output_type": "stream",
     "text": [
      "Below Average\n",
      "Operation Complete\n"
     ]
    }
   ],
   "source": [
    "# Using IF or else condition by matching calcuations \n",
    "Count = 3.3\n",
    "if Count > 3.5:\n",
    "    print(\"Above Average\")\n",
    "else:\n",
    "    print('Below Average')\n",
    "print(\"Operation Complete\")"
   ]
  },
  {
   "cell_type": "code",
   "execution_count": 94,
   "id": "c7bd31a4",
   "metadata": {
    "scrolled": true
   },
   "outputs": [
    {
     "name": "stdout",
     "output_type": "stream",
     "text": [
      "340\n",
      "0.68\n",
      "68%\n"
     ]
    }
   ],
   "source": [
    "# In the below example, we have taken a set of marks of a student \"A\" for 5 subjects. We created a dictionary data and then converted into an index value. Which we then excuted the totaling, average and average percentage for that student\n",
    "Marks_dict = {'Math' : 45, 'Accounts' : 70, 'Business Studies' : 75, 'Engilish' : 70, 'Economics' : 80}\n",
    "Marks = Marks_dict.values()\n",
    "Total = sum(Marks)\n",
    "Average = sum(Marks)/500\n",
    "Average_percentage = \"{:.0%}\".format(Average)\n",
    "print(Total)\n",
    "print(Average)\n",
    "print(Average_percentage)"
   ]
  },
  {
   "cell_type": "code",
   "execution_count": 188,
   "id": "8ee58b7c",
   "metadata": {
    "scrolled": true
   },
   "outputs": [
    {
     "name": "stdout",
     "output_type": "stream",
     "text": [
      "[0.94 0.64 0.9  0.63 0.61 0.72 0.87 0.74 0.97 0.6  0.41 0.97 0.86 0.44\n",
      " 0.74 0.72 0.5  0.52 0.82 0.45 0.91 0.83 0.78 0.8  0.48 0.51 0.83 0.58\n",
      " 0.4  0.84]\n"
     ]
    }
   ],
   "source": [
    "# Data set when average class perforamance is greater to that of Student \"A\"\n",
    "import numpy as np\n",
    "Class_Total_Mark = np.random.randint(40,100,30)/100\n",
    "print(Class_Total_Mark)"
   ]
  },
  {
   "cell_type": "code",
   "execution_count": 189,
   "id": "0fa308b3",
   "metadata": {},
   "outputs": [
    {
     "name": "stdout",
     "output_type": "stream",
     "text": [
      "0.7\n"
     ]
    }
   ],
   "source": [
    "Class_Total = sum(Class_Total_Mark)/30\n",
    "Class_Total_Roundup = \"{:.2}\".format(Class_Total)\n",
    "print(Class_Total_Roundup)"
   ]
  },
  {
   "cell_type": "code",
   "execution_count": 232,
   "id": "8ff1aa8f",
   "metadata": {},
   "outputs": [
    {
     "name": "stdout",
     "output_type": "stream",
     "text": [
      "Below Average\n",
      "Student Analysis Complete\n"
     ]
    }
   ],
   "source": [
    "# In the below working, we determined the average of the class and compared it with the average of student \"A\" and determined if the he/she was above the Class average or not\n",
    "Class_Total_Roundup = int()\n",
    "if Average < Class_Total_Roundup: \n",
    "    print(\"Above Average\")\n",
    "else:\n",
    "    print(\"Below Average\")\n",
    "print(\"Student Analysis Complete\")\n",
    "\n",
    "# Dara Taken: Class Total Roundup = 0.70, Student A Average_Class_Mark = 0.68"
   ]
  },
  {
   "cell_type": "code",
   "execution_count": 217,
   "id": "c5d23a4f",
   "metadata": {},
   "outputs": [
    {
     "name": "stdout",
     "output_type": "stream",
     "text": [
      "[0.6  0.86 0.81 0.46 0.65 0.95 0.82 0.72 0.45 0.93 0.41 0.56 0.51 0.52\n",
      " 0.69 0.54 0.66 0.41 0.79 0.67 0.4  0.61 0.65 0.48 0.96 0.56 0.94 0.88\n",
      " 0.71 0.7 ]\n"
     ]
    }
   ],
   "source": [
    "# Data set when average class perforamance is lower to that of Student \"A\"\n",
    "import numpy as np\n",
    "Class_Total_Mark_1 = np.random.randint(40,100,30)/100\n",
    "print(Class_Total_Mark_1)"
   ]
  },
  {
   "cell_type": "code",
   "execution_count": 218,
   "id": "7d586c6d",
   "metadata": {},
   "outputs": [
    {
     "name": "stdout",
     "output_type": "stream",
     "text": [
      "0.66\n"
     ]
    }
   ],
   "source": [
    "Class_Total_1 = sum(Class_Total_Mark_1)/30\n",
    "Class_Total_Roundup_1 = \"{:.2}\".format(Class_Total_1)\n",
    "print(Class_Total_Roundup_1)"
   ]
  },
  {
   "cell_type": "code",
   "execution_count": 233,
   "id": "6db248d1",
   "metadata": {},
   "outputs": [
    {
     "name": "stdout",
     "output_type": "stream",
     "text": [
      "Above Average\n",
      "Student Analysis Complete\n"
     ]
    }
   ],
   "source": [
    "# In this scenario, we assumed that the class average was lower than that of student \"A\". This was done to check, if our \"if else\" condition was working in vice-versa situation.\n",
    "Class_Total_Roundup_1 = int()\n",
    "if Average > Class_Total_Roundup_1:\n",
    "    print(\"Above Average\")\n",
    "else:\n",
    "    print(\"Below Average\")\n",
    "print(\"Student Analysis Complete\")\n",
    "\n",
    "# Dara Taken: Class_Total_Roundup_1 = 0.66, Student A Average_Class_Mark = 0.68"
   ]
  },
  {
   "cell_type": "code",
   "execution_count": null,
   "id": "189377a4",
   "metadata": {},
   "outputs": [],
   "source": []
  }
 ],
 "metadata": {
  "kernelspec": {
   "display_name": "Python 3",
   "language": "python",
   "name": "python3"
  },
  "language_info": {
   "codemirror_mode": {
    "name": "ipython",
    "version": 3
   },
   "file_extension": ".py",
   "mimetype": "text/x-python",
   "name": "python",
   "nbconvert_exporter": "python",
   "pygments_lexer": "ipython3",
   "version": "3.8.8"
  }
 },
 "nbformat": 4,
 "nbformat_minor": 5
}
