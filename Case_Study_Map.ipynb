{
  "nbformat": 4,
  "nbformat_minor": 0,
  "metadata": {
    "colab": {
      "provenance": [],
      "authorship_tag": "ABX9TyPp2NS0o61bhvX/401ue/GM",
      "include_colab_link": true
    },
    "kernelspec": {
      "name": "python3",
      "display_name": "Python 3"
    },
    "language_info": {
      "name": "python"
    }
  },
  "cells": [
    {
      "cell_type": "markdown",
      "metadata": {
        "id": "view-in-github",
        "colab_type": "text"
      },
      "source": [
        "<a href=\"https://colab.research.google.com/github/NithinfelixC/PythonCodes/blob/master/Case_Study_Map.ipynb\" target=\"_parent\"><img src=\"https://colab.research.google.com/assets/colab-badge.svg\" alt=\"Open In Colab\"/></a>"
      ]
    },
    {
      "cell_type": "code",
      "execution_count": 289,
      "metadata": {
        "id": "9IqEGQ4np0JO"
      },
      "outputs": [],
      "source": [
        "import requests\n",
        "from pprint import pprint\n",
        "import pandas as pd\n",
        "import folium\n",
        "import time"
      ]
    },
    {
      "cell_type": "code",
      "source": [
        "BASE_URL = 'https://nominatim.openstreetmap.org/search?format=json'"
      ],
      "metadata": {
        "id": "lzsopIkSp8pq"
      },
      "execution_count": 290,
      "outputs": []
    },
    {
      "cell_type": "code",
      "source": [
        "from google.colab import drive\n",
        "drive.mount('/content/drive')"
      ],
      "metadata": {
        "id": "SI_huEgBaEMv",
        "colab": {
          "base_uri": "https://localhost:8080/"
        },
        "outputId": "1b597ea0-9603-460a-a3ec-ab03ea24d379"
      },
      "execution_count": 291,
      "outputs": [
        {
          "output_type": "stream",
          "name": "stdout",
          "text": [
            "Drive already mounted at /content/drive; to attempt to forcibly remount, call drive.mount(\"/content/drive\", force_remount=True).\n"
          ]
        }
      ]
    },
    {
      "cell_type": "code",
      "source": [
        "fields = ['Trip','Origin_Country','Origin_PostalCode','Desination_Country','Destination_PostalCode','Fuel_Type_Bridged']\n",
        "data = pd.read_excel(r'/content/drive/My Drive/Colab Notebooks/Route_Map_1.xlsx')\n",
        "Origin_Country = []\n",
        "Origin_PostalCode = []\n",
        "Desination_Country = []\n",
        "Destination_PostalCode = []\n",
        "Fuel_Type_Bridged = []\n",
        "print(data['Origin_PostalCode'])"
      ],
      "metadata": {
        "colab": {
          "base_uri": "https://localhost:8080/"
        },
        "id": "Hsd4eg64qEbV",
        "outputId": "4d8ff957-40bf-4680-b53a-f51cd56c4991"
      },
      "execution_count": 292,
      "outputs": [
        {
          "output_type": "stream",
          "name": "stdout",
          "text": [
            "0        59930\n",
            "1         4020\n",
            "2      5551 VJ\n",
            "3        62820\n",
            "4       30-015\n",
            "        ...   \n",
            "482      28199\n",
            "483      28199\n",
            "484         71\n",
            "485       4020\n",
            "486      80335\n",
            "Name: Origin_PostalCode, Length: 487, dtype: object\n"
          ]
        }
      ]
    },
    {
      "cell_type": "code",
      "source": [
        "m = folium.Map(location = ['50.50770687561', '50.82770687561'], width=800, height=400)\n",
        "\n",
        "for i in range(10):\n",
        "    originresponse = requests.get(f\"{BASE_URL}&postalcode={data['Origin_PostalCode'][i]}&country={data['Origin_Country'][i]}\") \n",
        "    origindataoutput = originresponse.json() \n",
        "    originlatitude = origindataoutput [0].get('lat')\n",
        "    originlongitude = origindataoutput [0].get('lon') \n",
        "    destinationresponse = requests.get(f\"{BASE_URL}&postalcode={data['Destination_PostalCode'][i]}&country={data['Desination_Country'][i]}\")\n",
        "    destdataoutput = destinationresponse.json() \n",
        "    destlatitude = destdataoutput [0].get('lat')\n",
        "    destlongitude = destdataoutput [0].get('lon')\n",
        "    \n",
        "    location = float(originlatitude), float(originlongitude)\n",
        "    location2 = float(destlatitude), float(destlongitude)\n",
        "    \n",
        "    if data.Marking[i]=='Red':\n",
        "      plotcolor = 'red'\n",
        "    else:\n",
        "      plotcolor = 'blue'\n",
        "\n",
        "    line = folium.PolyLine((location, location2), color=plotcolor).add_to(m)\n",
        "    m.add_child(line)\n",
        "\n",
        "m"
      ],
      "metadata": {
        "colab": {
          "base_uri": "https://localhost:8080/",
          "height": 1000
        },
        "id": "dVst7Eq4WoSy",
        "outputId": "c483e88e-fce1-4306-a415-3cca0ad6590a"
      },
      "execution_count": 293,
      "outputs": [
        {
          "output_type": "stream",
          "name": "stdout",
          "text": [
            "Red\n",
            "Blue\n",
            "Blue\n",
            "Blue\n",
            "Blue\n",
            "Red\n",
            "Red\n",
            "Red\n",
            "Red\n",
            "Red\n"
          ]
        },
        {
          "output_type": "execute_result",
          "data": {
            "text/plain": [
              "<folium.folium.Map at 0x7f3adfd6e090>"
            ],
            "text/html": [
              "<div style=\"width:100%;\"><div style=\"position:relative;width:100%;height:0;padding-bottom:60%;\"><span style=\"color:#565656\">Make this Notebook Trusted to load map: File -> Trust Notebook</span><iframe srcdoc=\"&lt;!DOCTYPE html&gt;\n",
              "&lt;html&gt;\n",
              "&lt;head&gt;\n",
              "    \n",
              "    &lt;meta http-equiv=&quot;content-type&quot; content=&quot;text/html; charset=UTF-8&quot; /&gt;\n",
              "    \n",
              "        &lt;script&gt;\n",
              "            L_NO_TOUCH = false;\n",
              "            L_DISABLE_3D = false;\n",
              "        &lt;/script&gt;\n",
              "    \n",
              "    &lt;style&gt;html, body {width: 100%;height: 100%;margin: 0;padding: 0;}&lt;/style&gt;\n",
              "    &lt;style&gt;#map {position:absolute;top:0;bottom:0;right:0;left:0;}&lt;/style&gt;\n",
              "    &lt;script src=&quot;https://cdn.jsdelivr.net/npm/leaflet@1.6.0/dist/leaflet.js&quot;&gt;&lt;/script&gt;\n",
              "    &lt;script src=&quot;https://code.jquery.com/jquery-1.12.4.min.js&quot;&gt;&lt;/script&gt;\n",
              "    &lt;script src=&quot;https://maxcdn.bootstrapcdn.com/bootstrap/3.2.0/js/bootstrap.min.js&quot;&gt;&lt;/script&gt;\n",
              "    &lt;script src=&quot;https://cdnjs.cloudflare.com/ajax/libs/Leaflet.awesome-markers/2.0.2/leaflet.awesome-markers.js&quot;&gt;&lt;/script&gt;\n",
              "    &lt;link rel=&quot;stylesheet&quot; href=&quot;https://cdn.jsdelivr.net/npm/leaflet@1.6.0/dist/leaflet.css&quot;/&gt;\n",
              "    &lt;link rel=&quot;stylesheet&quot; href=&quot;https://maxcdn.bootstrapcdn.com/bootstrap/3.2.0/css/bootstrap.min.css&quot;/&gt;\n",
              "    &lt;link rel=&quot;stylesheet&quot; href=&quot;https://maxcdn.bootstrapcdn.com/bootstrap/3.2.0/css/bootstrap-theme.min.css&quot;/&gt;\n",
              "    &lt;link rel=&quot;stylesheet&quot; href=&quot;https://maxcdn.bootstrapcdn.com/font-awesome/4.6.3/css/font-awesome.min.css&quot;/&gt;\n",
              "    &lt;link rel=&quot;stylesheet&quot; href=&quot;https://cdnjs.cloudflare.com/ajax/libs/Leaflet.awesome-markers/2.0.2/leaflet.awesome-markers.css&quot;/&gt;\n",
              "    &lt;link rel=&quot;stylesheet&quot; href=&quot;https://cdn.jsdelivr.net/gh/python-visualization/folium/folium/templates/leaflet.awesome.rotate.min.css&quot;/&gt;\n",
              "    \n",
              "            &lt;meta name=&quot;viewport&quot; content=&quot;width=device-width,\n",
              "                initial-scale=1.0, maximum-scale=1.0, user-scalable=no&quot; /&gt;\n",
              "            &lt;style&gt;\n",
              "                #map_078fce5525b0ee7a60f2b1ec3a795178 {\n",
              "                    position: relative;\n",
              "                    width: 800.0px;\n",
              "                    height: 400.0px;\n",
              "                    left: 0.0%;\n",
              "                    top: 0.0%;\n",
              "                }\n",
              "            &lt;/style&gt;\n",
              "        \n",
              "&lt;/head&gt;\n",
              "&lt;body&gt;\n",
              "    \n",
              "    \n",
              "            &lt;div class=&quot;folium-map&quot; id=&quot;map_078fce5525b0ee7a60f2b1ec3a795178&quot; &gt;&lt;/div&gt;\n",
              "        \n",
              "&lt;/body&gt;\n",
              "&lt;script&gt;\n",
              "    \n",
              "    \n",
              "            var map_078fce5525b0ee7a60f2b1ec3a795178 = L.map(\n",
              "                &quot;map_078fce5525b0ee7a60f2b1ec3a795178&quot;,\n",
              "                {\n",
              "                    center: [50.50770687561, 50.82770687561],\n",
              "                    crs: L.CRS.EPSG3857,\n",
              "                    zoom: 10,\n",
              "                    zoomControl: true,\n",
              "                    preferCanvas: false,\n",
              "                }\n",
              "            );\n",
              "\n",
              "            \n",
              "\n",
              "        \n",
              "    \n",
              "            var tile_layer_a82878fdc9474ca24604b4ba4fca014b = L.tileLayer(\n",
              "                &quot;https://{s}.tile.openstreetmap.org/{z}/{x}/{y}.png&quot;,\n",
              "                {&quot;attribution&quot;: &quot;Data by \\u0026copy; \\u003ca href=\\&quot;http://openstreetmap.org\\&quot;\\u003eOpenStreetMap\\u003c/a\\u003e, under \\u003ca href=\\&quot;http://www.openstreetmap.org/copyright\\&quot;\\u003eODbL\\u003c/a\\u003e.&quot;, &quot;detectRetina&quot;: false, &quot;maxNativeZoom&quot;: 18, &quot;maxZoom&quot;: 18, &quot;minZoom&quot;: 0, &quot;noWrap&quot;: false, &quot;opacity&quot;: 1, &quot;subdomains&quot;: &quot;abc&quot;, &quot;tms&quot;: false}\n",
              "            ).addTo(map_078fce5525b0ee7a60f2b1ec3a795178);\n",
              "        \n",
              "    \n",
              "            var poly_line_bb4d165850e5b50d632bb7674f863b43 = L.polyline(\n",
              "                [[50.66770687560975, 2.8936401975609756], [51.34969198666667, 5.42587704]],\n",
              "                {&quot;bubblingMouseEvents&quot;: true, &quot;color&quot;: &quot;red&quot;, &quot;dashArray&quot;: null, &quot;dashOffset&quot;: null, &quot;fill&quot;: false, &quot;fillColor&quot;: &quot;red&quot;, &quot;fillOpacity&quot;: 0.2, &quot;fillRule&quot;: &quot;evenodd&quot;, &quot;lineCap&quot;: &quot;round&quot;, &quot;lineJoin&quot;: &quot;round&quot;, &quot;noClip&quot;: false, &quot;opacity&quot;: 1.0, &quot;smoothFactor&quot;: 1.0, &quot;stroke&quot;: true, &quot;weight&quot;: 3}\n",
              "            ).addTo(map_078fce5525b0ee7a60f2b1ec3a795178);\n",
              "        \n",
              "    \n",
              "            var poly_line_f7b8c622f60aa7b175bd4a395ed60fac = L.polyline(\n",
              "                [[50.64145369664804, 5.603087133454377], [53.058201499999996, 8.78191226820229]],\n",
              "                {&quot;bubblingMouseEvents&quot;: true, &quot;color&quot;: &quot;blue&quot;, &quot;dashArray&quot;: null, &quot;dashOffset&quot;: null, &quot;fill&quot;: false, &quot;fillColor&quot;: &quot;blue&quot;, &quot;fillOpacity&quot;: 0.2, &quot;fillRule&quot;: &quot;evenodd&quot;, &quot;lineCap&quot;: &quot;round&quot;, &quot;lineJoin&quot;: &quot;round&quot;, &quot;noClip&quot;: false, &quot;opacity&quot;: 1.0, &quot;smoothFactor&quot;: 1.0, &quot;stroke&quot;: true, &quot;weight&quot;: 3}\n",
              "            ).addTo(map_078fce5525b0ee7a60f2b1ec3a795178);\n",
              "        \n",
              "    \n",
              "            var poly_line_630f8090f8d1cec89a58bb0b116ade2c = L.polyline(\n",
              "                [[51.34969198666667, 5.42587704], [50.66770687560975, 2.8936401975609756]],\n",
              "                {&quot;bubblingMouseEvents&quot;: true, &quot;color&quot;: &quot;blue&quot;, &quot;dashArray&quot;: null, &quot;dashOffset&quot;: null, &quot;fill&quot;: false, &quot;fillColor&quot;: &quot;blue&quot;, &quot;fillOpacity&quot;: 0.2, &quot;fillRule&quot;: &quot;evenodd&quot;, &quot;lineCap&quot;: &quot;round&quot;, &quot;lineJoin&quot;: &quot;round&quot;, &quot;noClip&quot;: false, &quot;opacity&quot;: 1.0, &quot;smoothFactor&quot;: 1.0, &quot;stroke&quot;: true, &quot;weight&quot;: 3}\n",
              "            ).addTo(map_078fce5525b0ee7a60f2b1ec3a795178);\n",
              "        \n",
              "    \n",
              "            var poly_line_ae0fa8a9af49e173d469c360bdbe63c1 = L.polyline(\n",
              "                [[50.48226996363636, 3.0084975], [44.74320550366702, -0.6726507989025696]],\n",
              "                {&quot;bubblingMouseEvents&quot;: true, &quot;color&quot;: &quot;blue&quot;, &quot;dashArray&quot;: null, &quot;dashOffset&quot;: null, &quot;fill&quot;: false, &quot;fillColor&quot;: &quot;blue&quot;, &quot;fillOpacity&quot;: 0.2, &quot;fillRule&quot;: &quot;evenodd&quot;, &quot;lineCap&quot;: &quot;round&quot;, &quot;lineJoin&quot;: &quot;round&quot;, &quot;noClip&quot;: false, &quot;opacity&quot;: 1.0, &quot;smoothFactor&quot;: 1.0, &quot;stroke&quot;: true, &quot;weight&quot;: 3}\n",
              "            ).addTo(map_078fce5525b0ee7a60f2b1ec3a795178);\n",
              "        \n",
              "    \n",
              "            var poly_line_ee843ef2337d4fce9464737704145526 = L.polyline(\n",
              "                [[50.074504643243245, 19.929755572972976], [43.50892521131023, 16.45688774958872]],\n",
              "                {&quot;bubblingMouseEvents&quot;: true, &quot;color&quot;: &quot;blue&quot;, &quot;dashArray&quot;: null, &quot;dashOffset&quot;: null, &quot;fill&quot;: false, &quot;fillColor&quot;: &quot;blue&quot;, &quot;fillOpacity&quot;: 0.2, &quot;fillRule&quot;: &quot;evenodd&quot;, &quot;lineCap&quot;: &quot;round&quot;, &quot;lineJoin&quot;: &quot;round&quot;, &quot;noClip&quot;: false, &quot;opacity&quot;: 1.0, &quot;smoothFactor&quot;: 1.0, &quot;stroke&quot;: true, &quot;weight&quot;: 3}\n",
              "            ).addTo(map_078fce5525b0ee7a60f2b1ec3a795178);\n",
              "        \n",
              "    \n",
              "            var poly_line_1695b05a38ed12c479c0cdc38dd7f217 = L.polyline(\n",
              "                [[45.40496758232044, 9.018030584530386], [50.64145369664804, 5.603087133454377]],\n",
              "                {&quot;bubblingMouseEvents&quot;: true, &quot;color&quot;: &quot;red&quot;, &quot;dashArray&quot;: null, &quot;dashOffset&quot;: null, &quot;fill&quot;: false, &quot;fillColor&quot;: &quot;red&quot;, &quot;fillOpacity&quot;: 0.2, &quot;fillRule&quot;: &quot;evenodd&quot;, &quot;lineCap&quot;: &quot;round&quot;, &quot;lineJoin&quot;: &quot;round&quot;, &quot;noClip&quot;: false, &quot;opacity&quot;: 1.0, &quot;smoothFactor&quot;: 1.0, &quot;stroke&quot;: true, &quot;weight&quot;: 3}\n",
              "            ).addTo(map_078fce5525b0ee7a60f2b1ec3a795178);\n",
              "        \n",
              "    \n",
              "            var poly_line_d6e818d294cdb04024e62b00440b564c = L.polyline(\n",
              "                [[51.34969198666667, 5.42587704], [50.66770687560975, 2.8936401975609756]],\n",
              "                {&quot;bubblingMouseEvents&quot;: true, &quot;color&quot;: &quot;red&quot;, &quot;dashArray&quot;: null, &quot;dashOffset&quot;: null, &quot;fill&quot;: false, &quot;fillColor&quot;: &quot;red&quot;, &quot;fillOpacity&quot;: 0.2, &quot;fillRule&quot;: &quot;evenodd&quot;, &quot;lineCap&quot;: &quot;round&quot;, &quot;lineJoin&quot;: &quot;round&quot;, &quot;noClip&quot;: false, &quot;opacity&quot;: 1.0, &quot;smoothFactor&quot;: 1.0, &quot;stroke&quot;: true, &quot;weight&quot;: 3}\n",
              "            ).addTo(map_078fce5525b0ee7a60f2b1ec3a795178);\n",
              "        \n",
              "    \n",
              "            var poly_line_c7fa64932c8b0e8f8c7b701701584774 = L.polyline(\n",
              "                [[51.34969198666667, 5.42587704], [50.66770687560975, 2.8936401975609756]],\n",
              "                {&quot;bubblingMouseEvents&quot;: true, &quot;color&quot;: &quot;red&quot;, &quot;dashArray&quot;: null, &quot;dashOffset&quot;: null, &quot;fill&quot;: false, &quot;fillColor&quot;: &quot;red&quot;, &quot;fillOpacity&quot;: 0.2, &quot;fillRule&quot;: &quot;evenodd&quot;, &quot;lineCap&quot;: &quot;round&quot;, &quot;lineJoin&quot;: &quot;round&quot;, &quot;noClip&quot;: false, &quot;opacity&quot;: 1.0, &quot;smoothFactor&quot;: 1.0, &quot;stroke&quot;: true, &quot;weight&quot;: 3}\n",
              "            ).addTo(map_078fce5525b0ee7a60f2b1ec3a795178);\n",
              "        \n",
              "    \n",
              "            var poly_line_89de3d50ba935676e48acc11de6475fb = L.polyline(\n",
              "                [[50.66770687560975, 2.8936401975609756], [51.34969198666667, 5.42587704]],\n",
              "                {&quot;bubblingMouseEvents&quot;: true, &quot;color&quot;: &quot;red&quot;, &quot;dashArray&quot;: null, &quot;dashOffset&quot;: null, &quot;fill&quot;: false, &quot;fillColor&quot;: &quot;red&quot;, &quot;fillOpacity&quot;: 0.2, &quot;fillRule&quot;: &quot;evenodd&quot;, &quot;lineCap&quot;: &quot;round&quot;, &quot;lineJoin&quot;: &quot;round&quot;, &quot;noClip&quot;: false, &quot;opacity&quot;: 1.0, &quot;smoothFactor&quot;: 1.0, &quot;stroke&quot;: true, &quot;weight&quot;: 3}\n",
              "            ).addTo(map_078fce5525b0ee7a60f2b1ec3a795178);\n",
              "        \n",
              "    \n",
              "            var poly_line_24ff8d79448d0859c2bc6e8442207a50 = L.polyline(\n",
              "                [[51.34969198666667, 5.42587704], [50.66770687560975, 2.8936401975609756]],\n",
              "                {&quot;bubblingMouseEvents&quot;: true, &quot;color&quot;: &quot;red&quot;, &quot;dashArray&quot;: null, &quot;dashOffset&quot;: null, &quot;fill&quot;: false, &quot;fillColor&quot;: &quot;red&quot;, &quot;fillOpacity&quot;: 0.2, &quot;fillRule&quot;: &quot;evenodd&quot;, &quot;lineCap&quot;: &quot;round&quot;, &quot;lineJoin&quot;: &quot;round&quot;, &quot;noClip&quot;: false, &quot;opacity&quot;: 1.0, &quot;smoothFactor&quot;: 1.0, &quot;stroke&quot;: true, &quot;weight&quot;: 3}\n",
              "            ).addTo(map_078fce5525b0ee7a60f2b1ec3a795178);\n",
              "        \n",
              "&lt;/script&gt;\n",
              "&lt;/html&gt;\" style=\"position:absolute;width:100%;height:100%;left:0;top:0;border:none !important;\" allowfullscreen webkitallowfullscreen mozallowfullscreen></iframe></div></div>"
            ]
          },
          "metadata": {},
          "execution_count": 293
        }
      ]
    },
    {
      "cell_type": "code",
      "source": [],
      "metadata": {
        "id": "Dac8UdHuKo42"
      },
      "execution_count": 293,
      "outputs": []
    }
  ]
}