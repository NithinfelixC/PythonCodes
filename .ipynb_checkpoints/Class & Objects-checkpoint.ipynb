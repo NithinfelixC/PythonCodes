{
 "cells": [
  {
   "cell_type": "markdown",
   "id": "b04d8db7",
   "metadata": {},
   "source": [
    "# Obeject Orient Program OOP"
   ]
  },
  {
   "cell_type": "code",
   "execution_count": 57,
   "id": "e49672ec",
   "metadata": {},
   "outputs": [
    {
     "name": "stdout",
     "output_type": "stream",
     "text": [
      "Email Address: Nithin.Felix@company.com\n",
      "Pay for emp_4 = 15000\n",
      "Fullname is Deepesh Motwani\n"
     ]
    }
   ],
   "source": [
    "# Classes are user defined blueprint or proto-type when you create at object\n",
    "# We are creating a class to pull out Employee information from a data set below using Class function. We can also create sub-functions and call them out like we have shown in the example below for email address for a particular employee.\n",
    "\n",
    "class Employee: \n",
    "    \n",
    "    def __init__(self, first, last, pay):\n",
    "        self.first = first\n",
    "        self.last = last\n",
    "        self.pay = pay\n",
    "        self.email = first + '.' + last + '@company.com'\n",
    "    \n",
    "    def fullname(self):\n",
    "        return '{} {}'.format(self.first,self.last)\n",
    "     \n",
    "emp_1 = Employee('Nithin','Felix',10000)\n",
    "emp_2 = Employee('Cynthia','Joseph',8000)\n",
    "emp_3 = Employee('Deepesh','Motwani',10000)\n",
    "emp_4 = Employee('Suby','Pathrose',15000)\n",
    "\n",
    "print('Email Address:', emp_1.email)\n",
    "print('Pay for emp_4 =', emp_4.pay)\n",
    "print('Fullname is', emp_3.fullname())"
   ]
  },
  {
   "cell_type": "code",
   "execution_count": 106,
   "id": "397b6d7b",
   "metadata": {
    "scrolled": true
   },
   "outputs": [
    {
     "name": "stdout",
     "output_type": "stream",
     "text": [
      "Rate provided by bank A\n",
      "5.0\n",
      "Rate provided by bank B\n",
      "4.25\n",
      "Rate provided by bank C\n",
      "4.1\n"
     ]
    }
   ],
   "source": [
    "# When we are trying to create a Class for the purpose of calculation or formula based approach. \n",
    "\n",
    "class Interest: \n",
    "    LIBOR = 2 \n",
    "    \n",
    "    def __init__(self, a, b):\n",
    "        self.spread = a\n",
    "        self.fixedrate = b\n",
    "        print('Rate provided by bank A')\n",
    "    \n",
    "    def Totalcost(self):\n",
    "        return self.spread + self.fixedrate + Interest.LIBOR\n",
    "\n",
    "Cost = Interest(0.5,2.5)\n",
    "print(Cost.Totalcost())\n",
    "\n",
    "\n",
    "\n",
    "class Interest: \n",
    "    LIBOR = 2 \n",
    "    \n",
    "    def __init__(self, a, b):\n",
    "        self.spread = a\n",
    "        self.fixedrate = b\n",
    "        print('Rate provided by bank B')\n",
    "    \n",
    "    def Totalcost(self):\n",
    "        return self.spread + self.fixedrate + Interest.LIBOR\n",
    "\n",
    "Cost = Interest(0.25,2)\n",
    "print(Cost.Totalcost())\n",
    "\n",
    "\n",
    "\n",
    "\n",
    "class Interest: \n",
    "    LIBOR = 2 \n",
    "    \n",
    "    def __init__(self, a, b):\n",
    "        self.spread = a\n",
    "        self.fixedrate = b\n",
    "        print('Rate provided by bank C')\n",
    "    \n",
    "    def Totalcost(self):\n",
    "        return self.spread + self.fixedrate + Interest.LIBOR\n",
    "\n",
    "Cost = Interest(0.35,1.75)\n",
    "print(Cost.Totalcost())"
   ]
  },
  {
   "cell_type": "code",
   "execution_count": null,
   "id": "dba6e4fa",
   "metadata": {},
   "outputs": [],
   "source": []
  }
 ],
 "metadata": {
  "kernelspec": {
   "display_name": "Python 3",
   "language": "python",
   "name": "python3"
  },
  "language_info": {
   "codemirror_mode": {
    "name": "ipython",
    "version": 3
   },
   "file_extension": ".py",
   "mimetype": "text/x-python",
   "name": "python",
   "nbconvert_exporter": "python",
   "pygments_lexer": "ipython3",
   "version": "3.8.8"
  }
 },
 "nbformat": 4,
 "nbformat_minor": 5
}
