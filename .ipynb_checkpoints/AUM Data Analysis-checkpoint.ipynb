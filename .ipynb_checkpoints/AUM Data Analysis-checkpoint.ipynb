{
 "cells": [
  {
   "cell_type": "markdown",
   "id": "428282d1",
   "metadata": {},
   "source": [
    "# AUM Data Set"
   ]
  },
  {
   "cell_type": "code",
   "execution_count": 2,
   "id": "d930c5d5",
   "metadata": {},
   "outputs": [],
   "source": [
    "# We are going to use the AUM Data extraction for a bank and create visually soothing data analysis."
   ]
  },
  {
   "cell_type": "code",
   "execution_count": 3,
   "id": "eb26b969",
   "metadata": {},
   "outputs": [],
   "source": [
    "# We import the necessary libraries\n",
    "import pandas as pd\n",
    "import numpy as np\n",
    "import matplotlib.pyplot as plt\n",
    "import seaborn as sns\n",
    "%matplotlib inline"
   ]
  },
  {
   "cell_type": "code",
   "execution_count": 4,
   "id": "693b1921",
   "metadata": {},
   "outputs": [
    {
     "data": {
      "text/html": [
       "<div>\n",
       "<style scoped>\n",
       "    .dataframe tbody tr th:only-of-type {\n",
       "        vertical-align: middle;\n",
       "    }\n",
       "\n",
       "    .dataframe tbody tr th {\n",
       "        vertical-align: top;\n",
       "    }\n",
       "\n",
       "    .dataframe thead th {\n",
       "        text-align: right;\n",
       "    }\n",
       "</style>\n",
       "<table border=\"1\" class=\"dataframe\">\n",
       "  <thead>\n",
       "    <tr style=\"text-align: right;\">\n",
       "      <th></th>\n",
       "      <th>Month</th>\n",
       "      <th>ID</th>\n",
       "      <th>Name</th>\n",
       "      <th>ISIN</th>\n",
       "      <th>Security Name</th>\n",
       "      <th>Security Region</th>\n",
       "      <th>Asset Type</th>\n",
       "      <th>Sub-Asset Type</th>\n",
       "      <th>CCY</th>\n",
       "      <th>Amount</th>\n",
       "      <th>Amount (EUR)</th>\n",
       "      <th>Segment</th>\n",
       "      <th>Type</th>\n",
       "      <th>RM</th>\n",
       "      <th>TL</th>\n",
       "      <th>SH</th>\n",
       "      <th>Area</th>\n",
       "    </tr>\n",
       "  </thead>\n",
       "  <tbody>\n",
       "    <tr>\n",
       "      <th>0</th>\n",
       "      <td>Jan</td>\n",
       "      <td>GB003</td>\n",
       "      <td>Stuart Carroll</td>\n",
       "      <td>XS23834</td>\n",
       "      <td>IBM</td>\n",
       "      <td>North American</td>\n",
       "      <td>Bond</td>\n",
       "      <td>Short Term</td>\n",
       "      <td>USD</td>\n",
       "      <td>5749</td>\n",
       "      <td>5059.12</td>\n",
       "      <td>Wealth</td>\n",
       "      <td>Execution Only</td>\n",
       "      <td>Sulaiman B</td>\n",
       "      <td>Sabine A</td>\n",
       "      <td>Syed I</td>\n",
       "      <td>Saxony</td>\n",
       "    </tr>\n",
       "    <tr>\n",
       "      <th>1</th>\n",
       "      <td>Jan</td>\n",
       "      <td>GB016</td>\n",
       "      <td>Rebecca Allen</td>\n",
       "      <td>XS23837</td>\n",
       "      <td>HP</td>\n",
       "      <td>North American</td>\n",
       "      <td>Mutual Fund</td>\n",
       "      <td>Fixed Income Funds</td>\n",
       "      <td>USD</td>\n",
       "      <td>49884</td>\n",
       "      <td>43897.92</td>\n",
       "      <td>Private</td>\n",
       "      <td>Advisory</td>\n",
       "      <td>Jithin M</td>\n",
       "      <td>Sabine A</td>\n",
       "      <td>Syed I</td>\n",
       "      <td>Saxony</td>\n",
       "    </tr>\n",
       "    <tr>\n",
       "      <th>2</th>\n",
       "      <td>Jan</td>\n",
       "      <td>GB004</td>\n",
       "      <td>Rafael Miller</td>\n",
       "      <td>XS23826</td>\n",
       "      <td>Google</td>\n",
       "      <td>North American</td>\n",
       "      <td>Equity</td>\n",
       "      <td>Foreign Equity</td>\n",
       "      <td>USD</td>\n",
       "      <td>26628</td>\n",
       "      <td>23432.64</td>\n",
       "      <td>Retail</td>\n",
       "      <td>Execution Only</td>\n",
       "      <td>Sulaiman B</td>\n",
       "      <td>Hanadi U</td>\n",
       "      <td>Syed I</td>\n",
       "      <td>Rheinland-Pfalz</td>\n",
       "    </tr>\n",
       "    <tr>\n",
       "      <th>3</th>\n",
       "      <td>Jan</td>\n",
       "      <td>GB007</td>\n",
       "      <td>Valeria Perkins</td>\n",
       "      <td>XS23819</td>\n",
       "      <td>Tesla</td>\n",
       "      <td>North American</td>\n",
       "      <td>Mutual Fund</td>\n",
       "      <td>Equity Funds</td>\n",
       "      <td>USD</td>\n",
       "      <td>17240</td>\n",
       "      <td>15171.20</td>\n",
       "      <td>Retail</td>\n",
       "      <td>Execution Only</td>\n",
       "      <td>Jithin M</td>\n",
       "      <td>Hanadi U</td>\n",
       "      <td>Syed I</td>\n",
       "      <td>Saxony</td>\n",
       "    </tr>\n",
       "    <tr>\n",
       "      <th>4</th>\n",
       "      <td>Jan</td>\n",
       "      <td>GB002</td>\n",
       "      <td>Carina Thompson</td>\n",
       "      <td>DE23822</td>\n",
       "      <td>Allianz</td>\n",
       "      <td>Europe</td>\n",
       "      <td>Equity</td>\n",
       "      <td>Local Equity</td>\n",
       "      <td>EUR</td>\n",
       "      <td>26805</td>\n",
       "      <td>26805.00</td>\n",
       "      <td>Private</td>\n",
       "      <td>Advisory</td>\n",
       "      <td>Sagar T</td>\n",
       "      <td>Hanadi U</td>\n",
       "      <td>Syed I</td>\n",
       "      <td>Berlin</td>\n",
       "    </tr>\n",
       "  </tbody>\n",
       "</table>\n",
       "</div>"
      ],
      "text/plain": [
       "  Month     ID             Name     ISIN Security Name Security Region  \\\n",
       "0   Jan  GB003   Stuart Carroll  XS23834           IBM  North American   \n",
       "1   Jan  GB016    Rebecca Allen  XS23837            HP  North American   \n",
       "2   Jan  GB004    Rafael Miller  XS23826        Google  North American   \n",
       "3   Jan  GB007  Valeria Perkins  XS23819         Tesla  North American   \n",
       "4   Jan  GB002  Carina Thompson  DE23822       Allianz          Europe   \n",
       "\n",
       "    Asset Type      Sub-Asset Type  CCY  Amount  Amount (EUR)  Segment  \\\n",
       "0         Bond          Short Term  USD    5749       5059.12   Wealth   \n",
       "1  Mutual Fund  Fixed Income Funds  USD   49884      43897.92  Private   \n",
       "2       Equity      Foreign Equity  USD   26628      23432.64   Retail   \n",
       "3  Mutual Fund        Equity Funds  USD   17240      15171.20   Retail   \n",
       "4       Equity        Local Equity  EUR   26805      26805.00  Private   \n",
       "\n",
       "             Type          RM        TL      SH             Area  \n",
       "0  Execution Only  Sulaiman B  Sabine A  Syed I           Saxony  \n",
       "1        Advisory    Jithin M  Sabine A  Syed I           Saxony  \n",
       "2  Execution Only  Sulaiman B  Hanadi U  Syed I  Rheinland-Pfalz  \n",
       "3  Execution Only    Jithin M  Hanadi U  Syed I           Saxony  \n",
       "4        Advisory     Sagar T  Hanadi U  Syed I           Berlin  "
      ]
     },
     "execution_count": 4,
     "metadata": {},
     "output_type": "execute_result"
    }
   ],
   "source": [
    "# We import the data extraction file from the required source\n",
    "ds = pd.read_excel('C:/Users/hp/OneDrive/Desktop/PythonCodes/Data Set/AUM Data Set.xlsx')\n",
    "ds.head()"
   ]
  },
  {
   "cell_type": "code",
   "execution_count": 5,
   "id": "3dad78e4",
   "metadata": {},
   "outputs": [
    {
     "data": {
      "text/plain": [
       "Index(['Month', 'ID', 'Name', 'ISIN', 'Security Name', 'Security Region',\n",
       "       'Asset Type', 'Sub-Asset Type', 'CCY', 'Amount', 'Amount (EUR)',\n",
       "       'Segment', 'Type', 'RM', 'TL', 'SH', 'Area'],\n",
       "      dtype='object')"
      ]
     },
     "execution_count": 5,
     "metadata": {},
     "output_type": "execute_result"
    }
   ],
   "source": [
    "# We are going to identify the number of columns \n",
    "ds.columns"
   ]
  },
  {
   "cell_type": "code",
   "execution_count": 6,
   "id": "dff88b1b",
   "metadata": {},
   "outputs": [
    {
     "data": {
      "text/html": [
       "<div>\n",
       "<style scoped>\n",
       "    .dataframe tbody tr th:only-of-type {\n",
       "        vertical-align: middle;\n",
       "    }\n",
       "\n",
       "    .dataframe tbody tr th {\n",
       "        vertical-align: top;\n",
       "    }\n",
       "\n",
       "    .dataframe thead th {\n",
       "        text-align: right;\n",
       "    }\n",
       "</style>\n",
       "<table border=\"1\" class=\"dataframe\">\n",
       "  <thead>\n",
       "    <tr style=\"text-align: right;\">\n",
       "      <th></th>\n",
       "      <th>Amount</th>\n",
       "      <th>Amount (EUR)</th>\n",
       "    </tr>\n",
       "  </thead>\n",
       "  <tbody>\n",
       "    <tr>\n",
       "      <th>count</th>\n",
       "      <td>99.000000</td>\n",
       "      <td>99.000000</td>\n",
       "    </tr>\n",
       "    <tr>\n",
       "      <th>mean</th>\n",
       "      <td>24773.414141</td>\n",
       "      <td>18267.226343</td>\n",
       "    </tr>\n",
       "    <tr>\n",
       "      <th>std</th>\n",
       "      <td>14241.837408</td>\n",
       "      <td>13720.067096</td>\n",
       "    </tr>\n",
       "    <tr>\n",
       "      <th>min</th>\n",
       "      <td>1665.000000</td>\n",
       "      <td>35.064000</td>\n",
       "    </tr>\n",
       "    <tr>\n",
       "      <th>25%</th>\n",
       "      <td>13383.500000</td>\n",
       "      <td>5184.520000</td>\n",
       "    </tr>\n",
       "    <tr>\n",
       "      <th>50%</th>\n",
       "      <td>24735.000000</td>\n",
       "      <td>16807.000000</td>\n",
       "    </tr>\n",
       "    <tr>\n",
       "      <th>75%</th>\n",
       "      <td>37297.000000</td>\n",
       "      <td>26932.575000</td>\n",
       "    </tr>\n",
       "    <tr>\n",
       "      <th>max</th>\n",
       "      <td>49884.000000</td>\n",
       "      <td>48999.000000</td>\n",
       "    </tr>\n",
       "  </tbody>\n",
       "</table>\n",
       "</div>"
      ],
      "text/plain": [
       "             Amount  Amount (EUR)\n",
       "count     99.000000     99.000000\n",
       "mean   24773.414141  18267.226343\n",
       "std    14241.837408  13720.067096\n",
       "min     1665.000000     35.064000\n",
       "25%    13383.500000   5184.520000\n",
       "50%    24735.000000  16807.000000\n",
       "75%    37297.000000  26932.575000\n",
       "max    49884.000000  48999.000000"
      ]
     },
     "execution_count": 6,
     "metadata": {},
     "output_type": "execute_result"
    }
   ],
   "source": [
    "# For Statistical analysis we are going to display the type of columns and pull out the mean and standard deviation with the following function (this provides data for only valued columns)\n",
    "ds.describe()"
   ]
  },
  {
   "cell_type": "code",
   "execution_count": 20,
   "id": "854256d6",
   "metadata": {},
   "outputs": [
    {
     "name": "stdout",
     "output_type": "stream",
     "text": [
      "ID\n",
      "GB001     68.895520\n",
      "GB002     57.108868\n",
      "GB003    169.138740\n",
      "GB004    125.899370\n",
      "GB005    127.048100\n",
      "GB006     86.310164\n",
      "GB007    138.981390\n",
      "GB008     10.506176\n",
      "GB009     51.256880\n",
      "GB010     55.016720\n",
      "GB011     70.155024\n",
      "GB012     96.805124\n",
      "GB013     80.922250\n",
      "GB014    120.661916\n",
      "GB015     57.546076\n",
      "GB016    224.157720\n",
      "GB017     87.361450\n",
      "GB018    111.192960\n",
      "GB019     29.020640\n",
      "GB020     40.470320\n",
      "Name: Amount (EUR), dtype: float64\n"
     ]
    }
   ],
   "source": [
    "# Lets first analyze the unquie customers and their AUM (EUR CCY) value. \n",
    "data = ds.groupby('ID')['Amount (EUR)'].sum()/1000\n",
    "print(data)"
   ]
  },
  {
   "cell_type": "code",
   "execution_count": 74,
   "id": "9895fe02",
   "metadata": {},
   "outputs": [
    {
     "data": {
      "image/png": "[encoded data removed]",
      "text/plain": [
       "<Figure size 432x288 with 1 Axes>"
      ]
     },
     "metadata": {
      "needs_background": "light"
     },
     "output_type": "display_data"
    },
    {
     "data": {
      "image/png": "[encoded data removed]",
      "text/plain": [
       "<Figure size 432x288 with 1 Axes>"
      ]
     },
     "metadata": {
      "needs_background": "light"
     },
     "output_type": "display_data"
    }
   ],
   "source": [
    "plt.grid(color = 'grey', linestyle = '--', linewidth = 0.2)\n",
    "X = list(ds['ID'].unique())\n",
    "X.sort()\n",
    "Y = list(ds.groupby('ID')['Amount (EUR)'].sum()/1000)\n",
    "plt.xlabel('Customers', fontsize=20, color='purple')\n",
    "plt.ylabel('AUM Value', fontsize=20, color='purple')\n",
    "plot1 = plt.bar(X,Y,color='blue')\n",
    "plt.xticks(rotation=90)\n",
    "plt.show()\n",
    "\n",
    "plt.grid(color = 'orange', linestyle = '-', linewidth = 0.2)\n",
    "plt.xlabel('Customers', fontsize=20, color='purple')\n",
    "plt.ylabel('AUM Value', fontsize=20, color='purple')\n",
    "plot2 = plt.plot(X,Y,color='red')\n",
    "plt.xticks(rotation=90)\n",
    "plt.show()\n",
    "\n"
   ]
  },
  {
   "cell_type": "code",
   "execution_count": 60,
   "id": "5d7a4e68",
   "metadata": {},
   "outputs": [
    {
     "data": {
      "image/png": "[encoded data removed]",
      "text/plain": [
       "<Figure size 432x288 with 1 Axes>"
      ]
     },
     "metadata": {
      "needs_background": "light"
     },
     "output_type": "display_data"
    }
   ],
   "source": [
    "plt.figsize = (20,10)\n",
    "data1 = list(ds['ID'].unique())\n",
    "data1.sort()\n",
    "data2 = ds.groupby('ID')['Amount (EUR)'].sum()/1000\n",
    "plt.xticks(rotation=90)\n",
    "plt.xlabel('Customers', fontsize=20, color='red')\n",
    "plt.ylabel('AUM Value', fontsize=20, color='red')\n",
    "plt.bar(data1, data2,color='green')\n",
    "plt.grid(linestyle='-', linewidth='0.2', color='red')"
   ]
  },
  {
   "cell_type": "code",
   "execution_count": null,
   "id": "d8d0b191",
   "metadata": {},
   "outputs": [],
   "source": []
  }
 ],
 "metadata": {
  "kernelspec": {
   "display_name": "Python 3",
   "language": "python",
   "name": "python3"
  },
  "language_info": {
   "codemirror_mode": {
    "name": "ipython",
    "version": 3
   },
   "file_extension": ".py",
   "mimetype": "text/x-python",
   "name": "python",
   "nbconvert_exporter": "python",
   "pygments_lexer": "ipython3",
   "version": "3.8.8"
  }
 },
 "nbformat": 4,
 "nbformat_minor": 5
}
