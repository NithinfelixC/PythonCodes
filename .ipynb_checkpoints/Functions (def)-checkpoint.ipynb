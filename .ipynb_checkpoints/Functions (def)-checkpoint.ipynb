{
 "cells": [
  {
   "cell_type": "markdown",
   "id": "c54e99b8",
   "metadata": {},
   "source": [
    "# Function"
   ]
  },
  {
   "cell_type": "code",
   "execution_count": 1,
   "id": "d3cb9b29",
   "metadata": {},
   "outputs": [
    {
     "name": "stdout",
     "output_type": "stream",
     "text": [
      "Nithin Felix\n"
     ]
    }
   ],
   "source": [
    "def Full_Name(name):\n",
    "    print(\"Nithin\"+' '+name)\n",
    "\n",
    "Full_Name(\"Felix\")"
   ]
  },
  {
   "cell_type": "code",
   "execution_count": 12,
   "id": "efd1c72f",
   "metadata": {},
   "outputs": [
    {
     "name": "stdout",
     "output_type": "stream",
     "text": [
      "1314\n"
     ]
    }
   ],
   "source": [
    "# We can also create function using integers or calcuations and call that function\n",
    "\n",
    "def AddNumber(a,b):\n",
    "    X = a+b\n",
    "    print(int(X))\n",
    "    \n",
    "AddNumber(382, 932)"
   ]
  },
  {
   "cell_type": "code",
   "execution_count": 13,
   "id": "fb96ac1f",
   "metadata": {},
   "outputs": [
    {
     "name": "stdout",
     "output_type": "stream",
     "text": [
      "78\n"
     ]
    }
   ],
   "source": [
    "# If we have a scenario where the overall Class grades of sections A to B are as follows. And we need to find the Average of a Standard/Class Year. So we can use the def function to create an automated formula to keep running the calucations automatically.\n",
    "\n",
    "Class_Average_12A = 78\n",
    "Class_Average_12B = 74\n",
    "Class_Average_12C = 88\n",
    "Class_Average_12D = 92\n",
    "Class_Average_12E = 70\n",
    "Class_Average_12F = 64 \n",
    "Class_Average = (78,74,88,92,70,64)\n",
    "\n",
    "\n",
    "def Average(Class_Average):\n",
    "    Class_Average = (78,74,88,92,70,64)\n",
    "    X=sum(Class_Average)/len(Class_Average)\n",
    "    print(round(X))\n",
    "    \n",
    "Average(Class_Average)"
   ]
  },
  {
   "cell_type": "code",
   "execution_count": 16,
   "id": "135b7242",
   "metadata": {},
   "outputs": [
    {
     "name": "stdout",
     "output_type": "stream",
     "text": [
      "Go outside\n"
     ]
    }
   ],
   "source": [
    "#Creating another function. Here we defined a scenario which answers the question/decision to go outside or not based on the temperature. Considering the best climate to go out is less than 45 degrees, so any temperature above that will be not a good decision to go out. So we input the daily temperature and derive the respective outcome.\n",
    "#(Note Climate conditions are considered from the Middle East 45 degree is quiet normal for a summer day)\n",
    "\n",
    "def Analysis(d):\n",
    "    Best_Climate = 45\n",
    "    Y = 'Go outside'\n",
    "    N = 'Do not go outside'\n",
    "    if d<Best_Climate:\n",
    "        print(Y)\n",
    "    else:\n",
    "        print(N)\n",
    "\n",
    "Analysis(35)"
   ]
  },
  {
   "cell_type": "code",
   "execution_count": 17,
   "id": "f1d71f38",
   "metadata": {},
   "outputs": [
    {
     "name": "stdout",
     "output_type": "stream",
     "text": [
      "Do not go outside\n"
     ]
    }
   ],
   "source": [
    "# In case the daily temperature is greater than the suitable temperature. \n",
    "\n",
    "def Analysis(d):\n",
    "    Best_Climate = 45\n",
    "    Y = 'Go outside'\n",
    "    N = 'Do not go outside'\n",
    "    if d<Best_Climate:\n",
    "        print(Y)\n",
    "    else:\n",
    "        print(N)\n",
    "\n",
    "Analysis(50)"
   ]
  },
  {
   "cell_type": "code",
   "execution_count": null,
   "id": "ed2b8d3f",
   "metadata": {},
   "outputs": [],
   "source": []
  }
 ],
 "metadata": {
  "kernelspec": {
   "display_name": "Python 3",
   "language": "python",
   "name": "python3"
  },
  "language_info": {
   "codemirror_mode": {
    "name": "ipython",
    "version": 3
   },
   "file_extension": ".py",
   "mimetype": "text/x-python",
   "name": "python",
   "nbconvert_exporter": "python",
   "pygments_lexer": "ipython3",
   "version": "3.8.8"
  }
 },
 "nbformat": 4,
 "nbformat_minor": 5
}
