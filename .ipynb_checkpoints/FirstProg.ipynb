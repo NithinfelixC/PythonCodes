{
 "cells": [
  {
   "cell_type": "markdown",
   "id": "a0dbcb36",
   "metadata": {},
   "source": [
    "# Print Name"
   ]
  },
  {
   "cell_type": "code",
   "execution_count": 37,
   "id": "469d93a8",
   "metadata": {},
   "outputs": [
    {
     "name": "stdout",
     "output_type": "stream",
     "text": [
      "Nithin Felix Chaliyachan\n"
     ]
    }
   ],
   "source": [
    "print('Nithin Felix Chaliyachan')"
   ]
  },
  {
   "cell_type": "markdown",
   "id": "21d3f781",
   "metadata": {},
   "source": [
    "# Assign Variable and Print "
   ]
  },
  {
   "cell_type": "code",
   "execution_count": 38,
   "id": "523f5c24",
   "metadata": {},
   "outputs": [
    {
     "name": "stdout",
     "output_type": "stream",
     "text": [
      "Nithin Felix Chaliyachan\n"
     ]
    }
   ],
   "source": [
    "Name, Middle, Surname =\"Nithin\", \"Felix\", \"Chaliyachan\"\n",
    "print(\"{} {} {}\".format(Name, Middle, Surname))"
   ]
  },
  {
   "cell_type": "code",
   "execution_count": 39,
   "id": "a434c963",
   "metadata": {},
   "outputs": [
    {
     "name": "stdout",
     "output_type": "stream",
     "text": [
      "Nithin Felix\n"
     ]
    }
   ],
   "source": [
    "Name, Middle, Surname =\"Nithin\", \"Felix\", \"Chaliyachan\"\n",
    "print(\"{} {}\".format(Name, Middle, Surname))"
   ]
  },
  {
   "cell_type": "markdown",
   "id": "f67acc22",
   "metadata": {},
   "source": [
    "# Assign Numerical Variable and Print using calcuations"
   ]
  },
  {
   "cell_type": "code",
   "execution_count": 40,
   "id": "61a3a737",
   "metadata": {},
   "outputs": [
    {
     "name": "stdout",
     "output_type": "stream",
     "text": [
      "12.5\n"
     ]
    }
   ],
   "source": [
    "a, b, c = 5, 2.5, 3\n",
    "print(a*b)"
   ]
  },
  {
   "cell_type": "code",
   "execution_count": 41,
   "id": "398b1000",
   "metadata": {},
   "outputs": [
    {
     "name": "stdout",
     "output_type": "stream",
     "text": [
      "10.5\n"
     ]
    }
   ],
   "source": [
    "print(a+b+c)"
   ]
  },
  {
   "cell_type": "code",
   "execution_count": 42,
   "id": "d5eedfc3",
   "metadata": {},
   "outputs": [
    {
     "name": "stdout",
     "output_type": "stream",
     "text": [
      "9.5\n"
     ]
    }
   ],
   "source": [
    "print(a*b-c)"
   ]
  },
  {
   "cell_type": "markdown",
   "id": "5b89e038",
   "metadata": {},
   "source": [
    "# Identify the type of a particular variable"
   ]
  },
  {
   "cell_type": "code",
   "execution_count": 43,
   "id": "8aaa468e",
   "metadata": {},
   "outputs": [
    {
     "name": "stdout",
     "output_type": "stream",
     "text": [
      "<class 'int'> <class 'float'> <class 'int'>\n",
      "<class 'str'> <class 'str'> <class 'str'>\n"
     ]
    }
   ],
   "source": [
    "print(type(a), type(b), type(c))\n",
    "print(type(Name), type(Middle), type(Surname))"
   ]
  },
  {
   "cell_type": "markdown",
   "id": "16fd0570",
   "metadata": {},
   "source": [
    "# Concatinate with Strings"
   ]
  },
  {
   "cell_type": "code",
   "execution_count": 44,
   "id": "3caf65cd",
   "metadata": {},
   "outputs": [
    {
     "name": "stdout",
     "output_type": "stream",
     "text": [
      "Nithin 5\n"
     ]
    }
   ],
   "source": [
    "print(\"{} {}\".format(Name, a))"
   ]
  },
  {
   "cell_type": "code",
   "execution_count": 45,
   "id": "c64f115c",
   "metadata": {},
   "outputs": [
    {
     "name": "stdout",
     "output_type": "stream",
     "text": [
      "Nithinis from Chaliyachan\n"
     ]
    }
   ],
   "source": [
    "# Note: only with strings you can concatinate using +\n",
    "print((Name+\"is from \"+Surname))"
   ]
  },
  {
   "cell_type": "markdown",
   "id": "76594999",
   "metadata": {},
   "source": [
    "# Setting up values and print respective values"
   ]
  },
  {
   "cell_type": "code",
   "execution_count": 46,
   "id": "06900a16",
   "metadata": {},
   "outputs": [
    {
     "name": "stdout",
     "output_type": "stream",
     "text": [
      "1\n",
      "3 Blue\n"
     ]
    }
   ],
   "source": [
    "values = [1,2,3,4,\"Red\",\"Blue\",\"Green\"]\n",
    "# When trying to print values, the position of the value beings from zero and then moves up accordingly \n",
    "# For example, [1,2,3,4,\"Red\",\"Blue\",\"Green\"] where 1 is the 0th position, 2 is the 1st position and so on.\n",
    "print(values[0])\n",
    "print(values[2], values[5])"
   ]
  },
  {
   "cell_type": "code",
   "execution_count": 47,
   "id": "a20cf69d",
   "metadata": {},
   "outputs": [
    {
     "name": "stdout",
     "output_type": "stream",
     "text": [
      "Green\n"
     ]
    }
   ],
   "source": [
    "# When printing the last index value\n",
    "print(values[-1])"
   ]
  },
  {
   "cell_type": "code",
   "execution_count": 48,
   "id": "e3dc6a6a",
   "metadata": {},
   "outputs": [
    {
     "name": "stdout",
     "output_type": "stream",
     "text": [
      "[3, 4, 'Red']\n",
      "[3, 4, 'Red', 'Blue', 'Green']\n",
      "[1, 2, 3, 4]\n"
     ]
    }
   ],
   "source": [
    "# When printing a range of index values\n",
    "print(values[2:5])\n",
    "# When printing a range of index values untill the end\n",
    "print(values[2:])\n",
    "# When printing a range of index values before a particular index position\n",
    "print(values[:4])"
   ]
  },
  {
   "cell_type": "markdown",
   "id": "c09107b1",
   "metadata": {},
   "source": [
    "# Adding index and replacing index"
   ]
  },
  {
   "cell_type": "code",
   "execution_count": 49,
   "id": "14a3b2a5",
   "metadata": {},
   "outputs": [
    {
     "name": "stdout",
     "output_type": "stream",
     "text": [
      "['Yellow', 1, 2, 3, 4, 'Red', 'Blue', 'Green']\n"
     ]
    }
   ],
   "source": [
    "# When inserting a new value or string into a index. For example we added \"Yellow\" in the begining\n",
    "values.insert(0, \"Yellow\")\n",
    "print(values)"
   ]
  },
  {
   "cell_type": "code",
   "execution_count": 50,
   "id": "2dc9a633",
   "metadata": {},
   "outputs": [
    {
     "name": "stdout",
     "output_type": "stream",
     "text": [
      "['Yellow', 1, 2, 3, 4, 'Red', 'Blue', 'Green', 'Magenta']\n"
     ]
    }
   ],
   "source": [
    "# When inserting a new value or string into a index at the end. For example we added \"Magenta\" at the end\n",
    "values.append(\"Magenta\")\n",
    "print(values)"
   ]
  },
  {
   "cell_type": "code",
   "execution_count": 51,
   "id": "105d3620",
   "metadata": {},
   "outputs": [
    {
     "name": "stdout",
     "output_type": "stream",
     "text": [
      "['Yellow', 1, 2, 3, 4, 'Red', 'Blue', 'Green', 'Magenta', 'Purple']\n"
     ]
    }
   ],
   "source": [
    "# When inserting a new value or string into a index at the end. For example we added \"Purple\" at the end.\n",
    "values.append(\"Purple\")\n",
    "print(values)"
   ]
  },
  {
   "cell_type": "code",
   "execution_count": 53,
   "id": "0602a6bb",
   "metadata": {},
   "outputs": [
    {
     "name": "stdout",
     "output_type": "stream",
     "text": [
      "['Yellow', 1, 2, 3, 'Orange', 'Orange', 4, 'Red', 'Blue', 'Green', 'Magenta', 'Purple']\n"
     ]
    }
   ],
   "source": [
    "# When replace an index into another value or String. For example, in the below code we replaced value 4 with \"Orange\"\n",
    "values.insert(4,\"Orange\")\n",
    "print(values)"
   ]
  }
 ],
 "metadata": {
  "kernelspec": {
   "display_name": "Python 3",
   "language": "python",
   "name": "python3"
  },
  "language_info": {
   "codemirror_mode": {
    "name": "ipython",
    "version": 3
   },
   "file_extension": ".py",
   "mimetype": "text/x-python",
   "name": "python",
   "nbconvert_exporter": "python",
   "pygments_lexer": "ipython3",
   "version": "3.8.8"
  }
 },
 "nbformat": 4,
 "nbformat_minor": 5
}
