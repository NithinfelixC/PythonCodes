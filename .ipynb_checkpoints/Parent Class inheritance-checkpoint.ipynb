{
 "cells": [
  {
   "cell_type": "markdown",
   "id": "5c97b9ea",
   "metadata": {},
   "source": [
    "# Parent Class Inheritance"
   ]
  },
  {
   "cell_type": "code",
   "execution_count": 39,
   "id": "ade6deac",
   "metadata": {},
   "outputs": [
    {
     "name": "stdout",
     "output_type": "stream",
     "text": [
      "Total quote from Vendor-A 125\n",
      "Total quote from Vendor-B 150\n",
      "Total quote from Vendor-C 138\n"
     ]
    }
   ],
   "source": [
    "# We are trying to implement Parent Class inheritance with the following example. \n",
    "# Let us assume that a customer wants to know the price of acquirng a product from Vendor A, Vendor B and Vendor C. The Customer knows he will have to pay a fixed storage cost of EUR 100. We need to determine based on the quotes provided by the Venords the total cost and which would be feasable decision for the Customer to make the purchase.\n",
    "# Vendor A = 20 , Vendor B = 25, Vendor C = 15,  Fixed Storage Cost = 100, Transport for A = 5, Transport for B = 7 and Transport for C = 3\n",
    "\n",
    "class PurchasepriceA:\n",
    "    VendorA = 20 \n",
    "    \n",
    "    def __init__(self, a, b):\n",
    "        self.fixedcost = a\n",
    "        self.transport = b\n",
    "            \n",
    "    def TotalcostA(self):\n",
    "        return self.fixedcost + self.transport + Purchaseprice.VendorA\n",
    "    \n",
    "objcostA = PurchasepriceA(100,5)\n",
    "print('Total quote from Vendor-A', objcostA.TotalcostA())\n",
    "\n",
    "\n",
    "# Vendor B\n",
    "class PurchasepriceB(PurchasepriceA):\n",
    "    VendorB = 25 \n",
    "    \n",
    "    def __init__(self):\n",
    "        PurchasepriceA.__init__(self, 100, 5)\n",
    "    \n",
    "    def TotalcostB(self):\n",
    "        return self.VendorB + self.TotalcostA()\n",
    "    \n",
    "objcostB = PurchasepriceB()\n",
    "print('Total quote from Vendor-B', objcostB.TotalcostB())\n",
    "\n",
    "\n",
    "# Vendor C\n",
    "class PurchasepriceC(PurchasepriceA):\n",
    "    VendorC = 15 \n",
    "    \n",
    "    def __init__(self):\n",
    "        PurchasepriceA.__init__(self, 100, 3)\n",
    "    \n",
    "    def TotalcostC(self):\n",
    "        return self.VendorC + self.TotalcostA()\n",
    "    \n",
    "objcostC = PurchasepriceC()\n",
    "print('Total quote from Vendor-C', objcostC.TotalcostC())\n",
    "\n",
    "#Hence we can conclude that the Customer could go for Vendor-A from the below solution."
   ]
  }
 ],
 "metadata": {
  "kernelspec": {
   "display_name": "Python 3",
   "language": "python",
   "name": "python3"
  },
  "language_info": {
   "codemirror_mode": {
    "name": "ipython",
    "version": 3
   },
   "file_extension": ".py",
   "mimetype": "text/x-python",
   "name": "python",
   "nbconvert_exporter": "python",
   "pygments_lexer": "ipython3",
   "version": "3.8.8"
  }
 },
 "nbformat": 4,
 "nbformat_minor": 5
}
