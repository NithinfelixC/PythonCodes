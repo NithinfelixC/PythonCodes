{
 "cells": [
  {
   "cell_type": "markdown",
   "id": "aad60108",
   "metadata": {},
   "source": [
    "# For - Loop"
   ]
  },
  {
   "cell_type": "code",
   "execution_count": 2,
   "id": "f1ec4882",
   "metadata": {},
   "outputs": [
    {
     "name": "stdout",
     "output_type": "stream",
     "text": [
      "1\n",
      "2\n",
      "3\n",
      "4\n",
      "5\n"
     ]
    }
   ],
   "source": [
    "# For x in data set print the entire data.\n",
    "Data = [1,2,3,4,5]\n",
    "for x in Data:\n",
    "    print(x)"
   ]
  },
  {
   "cell_type": "code",
   "execution_count": 3,
   "id": "84edb1cc",
   "metadata": {},
   "outputs": [
    {
     "name": "stdout",
     "output_type": "stream",
     "text": [
      "2\n",
      "4\n",
      "6\n",
      "8\n",
      "10\n"
     ]
    }
   ],
   "source": [
    "# For x in data set print the entire data with mathematical calcuation\n",
    "Data = [1,2,3,4,5]\n",
    "for x in Data:\n",
    "    print(x*2)"
   ]
  },
  {
   "cell_type": "code",
   "execution_count": 4,
   "id": "b8ff955a",
   "metadata": {},
   "outputs": [
    {
     "name": "stdout",
     "output_type": "stream",
     "text": [
      "-1\n",
      "0\n",
      "1\n",
      "2\n",
      "3\n"
     ]
    }
   ],
   "source": [
    "# For x in data set print the entire data with mathematical calcuation\n",
    "Data = [1,2,3,4,5]\n",
    "for x in Data:\n",
    "    print(x-2)"
   ]
  },
  {
   "cell_type": "code",
   "execution_count": 53,
   "id": "ef3ba058",
   "metadata": {},
   "outputs": [
    {
     "name": "stdout",
     "output_type": "stream",
     "text": [
      "Ford\n",
      "Ferrari\n",
      "Toyota\n",
      "Maruti\n",
      "Chevrolet\n"
     ]
    }
   ],
   "source": [
    "# For x in data set print the entire data using a list.\n",
    "Data_Set = ['Ford', 'Ferrari', 'Toyota', 'Maruti', 'Chevrolet']\n",
    "for x in Data_Set:\n",
    "    print(x)"
   ]
  },
  {
   "cell_type": "code",
   "execution_count": 144,
   "id": "fd3c50a3",
   "metadata": {},
   "outputs": [
    {
     "name": "stdout",
     "output_type": "stream",
     "text": [
      "Sum 21\n",
      "Average 3.5\n"
     ]
    }
   ],
   "source": [
    "# For x in data set determining the average number from a list of numbers\n",
    "List_Numbers = [1,2,3,4,5,6]\n",
    "sum = 0\n",
    "for i in List_Numbers:\n",
    "    sum = sum + i\n",
    "print('Sum', sum)\n",
    "print('Average', sum/len(List_Numbers))"
   ]
  },
  {
   "cell_type": "code",
   "execution_count": 158,
   "id": "0924844b",
   "metadata": {},
   "outputs": [
    {
     "name": "stdout",
     "output_type": "stream",
     "text": [
      "Sum 22\n",
      "Average 5.5\n"
     ]
    }
   ],
   "source": [
    "# For x in data set determining the average number from a range of numbers\n",
    "sum = 0\n",
    "List_Numbers_1 = range(1,11,3)\n",
    "for o in List_Numbers_1:\n",
    "    sum = sum + o\n",
    "print('Sum', sum)\n",
    "print('Average', sum/len(List_Numbers_1))"
   ]
  },
  {
   "cell_type": "code",
   "execution_count": 6,
   "id": "96537c1d",
   "metadata": {},
   "outputs": [
    {
     "name": "stdout",
     "output_type": "stream",
     "text": [
      "Sum 25\n",
      "Averaage 5.0\n"
     ]
    }
   ],
   "source": [
    "# Alternatively determining the average using the below syntax\n",
    "List_Numbers_2 = range(1,11,2)\n",
    "print('Sum', sum(List_Numbers_2))\n",
    "print('Averaage', sum(List_Numbers_2)/len(List_Numbers_2))"
   ]
  },
  {
   "cell_type": "code",
   "execution_count": 17,
   "id": "f17e5588",
   "metadata": {},
   "outputs": [
    {
     "name": "stdout",
     "output_type": "stream",
     "text": [
      "Sum 21\n",
      "Averaage 3.5\n"
     ]
    }
   ],
   "source": [
    "# Alternatively determining the average using the below syntax\n",
    "List_Numbers_3 = [1,2,3,4,5,6]\n",
    "print('Sum', sum(List_Numbers_3))\n",
    "print('Averaage', sum(List_Numbers_3)/len(List_Numbers_3))"
   ]
  },
  {
   "cell_type": "markdown",
   "id": "7cb631c4",
   "metadata": {},
   "source": [
    "# While Loop"
   ]
  },
  {
   "cell_type": "code",
   "execution_count": 1,
   "id": "55a7d587",
   "metadata": {},
   "outputs": [
    {
     "name": "stdout",
     "output_type": "stream",
     "text": [
      "4\n",
      "3\n",
      "2\n",
      "Loop Complete\n"
     ]
    }
   ],
   "source": [
    "# While Loop is used to see if a particular condition is met. \n",
    "Z = 4\n",
    "while Z>1:\n",
    "    print(Z)\n",
    "    Z = Z - 1\n",
    "print('Loop Complete')"
   ]
  },
  {
   "cell_type": "code",
   "execution_count": 6,
   "id": "7e2e157d",
   "metadata": {},
   "outputs": [
    {
     "name": "stdout",
     "output_type": "stream",
     "text": [
      "4\n",
      "2\n",
      "Loop Complete\n"
     ]
    }
   ],
   "source": [
    "# While Loop is used to see if a particular condition is met and we need to omit one particluar value\n",
    "Z = 4\n",
    "while Z>1:\n",
    "    if Z != 3:\n",
    "        print(Z)\n",
    "    Z = Z - 1\n",
    "print('Loop Complete')"
   ]
  },
  {
   "cell_type": "code",
   "execution_count": 9,
   "id": "92f01caf",
   "metadata": {},
   "outputs": [
    {
     "name": "stdout",
     "output_type": "stream",
     "text": [
      "10\n",
      "9\n",
      "8\n",
      "7\n",
      "6\n",
      "5\n",
      "Loop Complete\n"
     ]
    }
   ],
   "source": [
    "# While Loop is used to see if a particular condition is met and we need to omit one or more particluar value with \"break\" syntax\n",
    "Y = 10\n",
    "while Y >1:\n",
    "    if Y == 4:\n",
    "        break\n",
    "    print(Y)\n",
    "    Y = Y - 1\n",
    "print('Loop Complete')"
   ]
  },
  {
   "cell_type": "code",
   "execution_count": 10,
   "id": "48cb4504",
   "metadata": {},
   "outputs": [
    {
     "name": "stdout",
     "output_type": "stream",
     "text": [
      "10\n",
      "8\n",
      "7\n",
      "6\n",
      "5\n",
      "4\n",
      "3\n",
      "Loop Complete\n"
     ]
    }
   ],
   "source": [
    "Y = 10\n",
    "while Y > 1:\n",
    "    if Y == 9:\n",
    "        Y = Y - 1\n",
    "        continue\n",
    "    if Y == 3:\n",
    "        break\n",
    "    print(Y)\n",
    "    Y = Y - 1\n",
    "print(Y)\n",
    "print('Loop Complete')"
   ]
  },
  {
   "cell_type": "code",
   "execution_count": null,
   "id": "675ba878",
   "metadata": {},
   "outputs": [],
   "source": []
  }
 ],
 "metadata": {
  "kernelspec": {
   "display_name": "Python 3",
   "language": "python",
   "name": "python3"
  },
  "language_info": {
   "codemirror_mode": {
    "name": "ipython",
    "version": 3
   },
   "file_extension": ".py",
   "mimetype": "text/x-python",
   "name": "python",
   "nbconvert_exporter": "python",
   "pygments_lexer": "ipython3",
   "version": "3.8.8"
  }
 },
 "nbformat": 4,
 "nbformat_minor": 5
}
