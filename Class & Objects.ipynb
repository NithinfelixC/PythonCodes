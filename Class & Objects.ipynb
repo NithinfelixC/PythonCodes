{
 "cells": [
  {
   "cell_type": "markdown",
   "id": "b04d8db7",
   "metadata": {},
   "source": [
    "# Obeject Orient Program OOP"
   ]
  },
  {
   "cell_type": "code",
   "execution_count": 57,
   "id": "e49672ec",
   "metadata": {},
   "outputs": [
    {
     "name": "stdout",
     "output_type": "stream",
     "text": [
      "Email Address: Nithin.Felix@company.com\n",
      "Pay for emp_4 = 15000\n",
      "Fullname is Deepesh Motwani\n"
     ]
    }
   ],
   "source": [
    "# Classes are user defined blueprint or proto-type when you create at object\n",
    "# We are creating a class to pull out Employee information from a data set below using Class function. We can also create sub-functions and call them out like we have shown in the example below for email address for a particular employee.\n",
    "\n",
    "class Employee: \n",
    "    \n",
    "    def __init__(self, first, last, pay):\n",
    "        self.first = first\n",
    "        self.last = last\n",
    "        self.pay = pay\n",
    "        self.email = first + '.' + last + '@company.com'\n",
    "    \n",
    "    def fullname(self):\n",
    "        return '{} {}'.format(self.first,self.last)\n",
    "     \n",
    "emp_1 = Employee('Nithin','Felix',10000)\n",
    "emp_2 = Employee('Cynthia','Joseph',8000)\n",
    "emp_3 = Employee('Deepesh','Motwani',10000)\n",
    "emp_4 = Employee('Suby','Pathrose',15000)\n",
    "\n",
    "print('Email Address:', emp_1.email)\n",
    "print('Pay for emp_4 =', emp_4.pay)\n",
    "print('Fullname is', emp_3.fullname())"
   ]
  },
  {
   "cell_type": "code",
   "execution_count": null,
   "id": "dba6e4fa",
   "metadata": {},
   "outputs": [],
   "source": []
  }
 ],
 "metadata": {
  "kernelspec": {
   "display_name": "Python 3",
   "language": "python",
   "name": "python3"
  },
  "language_info": {
   "codemirror_mode": {
    "name": "ipython",
    "version": 3
   },
   "file_extension": ".py",
   "mimetype": "text/x-python",
   "name": "python",
   "nbconvert_exporter": "python",
   "pygments_lexer": "ipython3",
   "version": "3.8.8"
  }
 },
 "nbformat": 4,
 "nbformat_minor": 5
}
